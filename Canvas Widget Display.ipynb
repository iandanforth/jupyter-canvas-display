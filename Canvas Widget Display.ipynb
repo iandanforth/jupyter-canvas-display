{
 "cells": [
  {
   "cell_type": "markdown",
   "metadata": {},
   "source": [
    "# Dynamic drawing from Python to canvas\n",
    "\n",
    "The [Jupyter Widgets library](https://ipywidgets.readthedocs.io/en/latest/examples/Widget%20Basics.html) lets us send values from a Python cell to a Javascript cell. We can use these values to create a canvas display that will be dynamically updated whenever we change a `state` object from a Python cell.\n",
    "\n",
    "Behind the scenes we use `traitlets` which are special data types that can have side effects when their values are modified. Jupyter implements side effects that send the updated values to the browser where they are routed to the appropriate \"view\", where a view is a JavaScript module and class pairing."
   ]
  },
  {
   "cell_type": "markdown",
   "metadata": {},
   "source": [
    "This is our Python side. Here we:\n",
    "\n",
    " - Import the widgets library\n",
    " - Import our synced data classes (traitlets)\n",
    " - Subclass the Jupyter DOMWidget class\n",
    " - Define properties on that class which tell the widget library how to find the JavaScript view\n",
    " - Define a `state` property which will be synced between Python and JS and can serve as our communication pipe.\n",
    "     - Note: There's nothing special about the name `state` it could be `potato` or anything you want. The important bit is that it is a traitlet `Dict` with `sync=True`."
   ]
  },
  {
   "cell_type": "code",
   "execution_count": 1,
   "metadata": {},
   "outputs": [],
   "source": [
    "import ipywidgets as widgets\n",
    "from traitlets import Dict, Unicode, validate\n",
    "\n",
    "class Display(widgets.DOMWidget):\n",
    "    _view_name = Unicode('Display').tag(sync=True)\n",
    "    _view_module = Unicode('display').tag(sync=True)\n",
    "    _view_module_version = Unicode('0.1.0').tag(sync=True)\n",
    "    state = Dict({\"values\": []}).tag(sync=True)"
   ]
  },
  {
   "cell_type": "markdown",
   "metadata": {},
   "source": [
    "This is our JavaScript side. Here we:\n",
    "\n",
    " - use `define` from requirejs to create a module.\n",
    "     - The name of this module must match the `_view_module` in the Python class above.\n",
    "     - The second argument specifies the list of names of js modules that will be passed to the function defined in the third argument.\n",
    " - extend the Jupyter DOMWidgetView to describe what the widget should do. \n",
    "     - The name of this class must match the `_view_name` in the Python class above.\n",
    " - \"export\" this new widget by returning it at the end of the function passed to `define`."
   ]
  },
  {
   "cell_type": "code",
   "execution_count": 2,
   "metadata": {},
   "outputs": [
    {
     "data": {
      "application/javascript": [
       "// Reset the loader's internal state to forget about the previous definition of the module\n",
       "require.undef('display');\n",
       "\n",
       "require.config({\n",
       "  //Define 3rd party plugins dependencies\n",
       "  paths: {\n",
       "    fabric: \"https://cdnjs.cloudflare.com/ajax/libs/fabric.js/2.7.0/fabric.min\"\n",
       "  }\n",
       "});\n",
       "\n",
       "define('display', [\"@jupyter-widgets/base\", \"fabric\"], function(widgets, fabric) {\n",
       "\n",
       "    var Display = widgets.DOMWidgetView.extend({\n",
       "\n",
       "        render: function() {\n",
       "            const canvas = document.createElement('canvas');\n",
       "            canvas.id = 'canvas';\n",
       "            canvas.width = 1000;\n",
       "            canvas.height = 500;\n",
       "            var ctx = canvas.getContext(\"2d\");\n",
       "            ctx.fillStyle = \"blue\";\n",
       "            ctx.fillRect(0, 0, canvas.width, canvas.height);\n",
       "            this.el.appendChild(canvas);\n",
       "\n",
       "            const fabricCanvas = new fabric.Canvas(canvas);\n",
       "\n",
       "            // Create a starting rect (useful to see something is working)\n",
       "            const shape = new fabric.Circle({\n",
       "                top : 100,\n",
       "                left : 100,\n",
       "                radius : 20,\n",
       "                fill : '#5BC8F7'\n",
       "            });\n",
       "\n",
       "            fabricCanvas.add(shape);\n",
       "            \n",
       "            // Create a list of objects to re-use\n",
       "            const shapes = [shape];\n",
       "            \n",
       "            // Set up our listener\n",
       "            const onStateChanged = this.handleStateChanged.bind(this, fabricCanvas, shapes);\n",
       "            this.model.on('change:state', onStateChanged);\n",
       "        },\n",
       "        \n",
       "        handleStateChanged: function(fabricCanvas, shapes) {\n",
       "            const vals = this.model.get('state').values;\n",
       "            \n",
       "            for (let i=0; i < vals.length; i++) {\n",
       "                let shape;\n",
       "                // Create a new shape if our list of vals has increased in length\n",
       "                if (shapes[i] === undefined) {\n",
       "                    shape = new fabric.Circle({\n",
       "                        top : 100,\n",
       "                        left : 100,\n",
       "                        radius : 20,\n",
       "                        fill : '#F6C7BE'\n",
       "                    });\n",
       "                    fabricCanvas.add(shape);\n",
       "                    shapes.push(shape);\n",
       "                } else {\n",
       "                    shape = shapes[i];\n",
       "                }\n",
       "                // Update the shape to the correct location\n",
       "                const top = vals[i];\n",
       "                const left = 500 - (i * (shape.radius * 3));\n",
       "                shape.set({\n",
       "                    top,\n",
       "                    left\n",
       "                });\n",
       "                \n",
       "            }\n",
       "            \n",
       "            // Render all rects;\n",
       "            fabricCanvas.renderAll();\n",
       "        }\n",
       "    });\n",
       "\n",
       "    return {\n",
       "        Display\n",
       "    };\n",
       "});"
      ],
      "text/plain": [
       "<IPython.core.display.Javascript object>"
      ]
     },
     "metadata": {},
     "output_type": "display_data"
    }
   ],
   "source": [
    "%%javascript\n",
    "// Reset the loader's internal state to forget about the previous definition of the module\n",
    "require.undef('display');\n",
    "\n",
    "require.config({\n",
    "  //Define 3rd party plugins dependencies\n",
    "  paths: {\n",
    "    fabric: \"https://cdnjs.cloudflare.com/ajax/libs/fabric.js/2.7.0/fabric.min\"\n",
    "  }\n",
    "});\n",
    "\n",
    "define('display', [\"@jupyter-widgets/base\", \"fabric\"], function(widgets, fabric) {\n",
    "\n",
    "    var Display = widgets.DOMWidgetView.extend({\n",
    "\n",
    "        render: function() {\n",
    "            const canvas = document.createElement('canvas');\n",
    "            canvas.id = 'canvas';\n",
    "            canvas.width = 1000;\n",
    "            canvas.height = 500;\n",
    "            var ctx = canvas.getContext(\"2d\");\n",
    "            ctx.fillStyle = \"blue\";\n",
    "            ctx.fillRect(0, 0, canvas.width, canvas.height);\n",
    "            this.el.appendChild(canvas);\n",
    "\n",
    "            const fabricCanvas = new fabric.Canvas(canvas);\n",
    "\n",
    "            // Create a starting rect (useful to see something is working)\n",
    "            const shape = new fabric.Circle({\n",
    "                top : 100,\n",
    "                left : 100,\n",
    "                radius : 20,\n",
    "                fill : '#5BC8F7'\n",
    "            });\n",
    "\n",
    "            fabricCanvas.add(shape);\n",
    "            \n",
    "            // Create a list of objects to re-use\n",
    "            const shapes = [shape];\n",
    "            \n",
    "            // Set up our listener\n",
    "            const onStateChanged = this.handleStateChanged.bind(this, fabricCanvas, shapes);\n",
    "            this.model.on('change:state', onStateChanged);\n",
    "        },\n",
    "        \n",
    "        handleStateChanged: function(fabricCanvas, shapes) {\n",
    "            const vals = this.model.get('state').values;\n",
    "            \n",
    "            for (let i=0; i < vals.length; i++) {\n",
    "                let shape;\n",
    "                // Create a new shape if our list of vals has increased in length\n",
    "                if (shapes[i] === undefined) {\n",
    "                    shape = new fabric.Circle({\n",
    "                        top : 100,\n",
    "                        left : 100,\n",
    "                        radius : 20,\n",
    "                        fill : '#F6C7BE'\n",
    "                    });\n",
    "                    fabricCanvas.add(shape);\n",
    "                    shapes.push(shape);\n",
    "                } else {\n",
    "                    shape = shapes[i];\n",
    "                }\n",
    "                // Update the shape to the correct location\n",
    "                const top = vals[i];\n",
    "                const left = 500 - (i * (shape.radius * 3));\n",
    "                shape.set({\n",
    "                    top,\n",
    "                    left\n",
    "                });\n",
    "                \n",
    "            }\n",
    "            \n",
    "            // Render all rects;\n",
    "            fabricCanvas.renderAll();\n",
    "        }\n",
    "    });\n",
    "\n",
    "    return {\n",
    "        Display\n",
    "    };\n",
    "});"
   ]
  },
  {
   "cell_type": "code",
   "execution_count": 3,
   "metadata": {},
   "outputs": [],
   "source": [
    "# Instantiate the Python widget.\n",
    "display = Display()"
   ]
  },
  {
   "cell_type": "code",
   "execution_count": 4,
   "metadata": {},
   "outputs": [
    {
     "data": {
      "application/vnd.jupyter.widget-view+json": {
       "model_id": "e54c284e91cc4f42a8e059678dbf247a",
       "version_major": 2,
       "version_minor": 0
      },
      "text/plain": [
       "Display(state={'values': []})"
      ]
     },
     "metadata": {},
     "output_type": "display_data"
    }
   ],
   "source": [
    "# Invoke the __repr__() of the widget which actually causes the JavaScript widget to be drawn.\n",
    "display"
   ]
  },
  {
   "cell_type": "code",
   "execution_count": 5,
   "metadata": {},
   "outputs": [
    {
     "ename": "KeyboardInterrupt",
     "evalue": "",
     "output_type": "error",
     "traceback": [
      "\u001b[1;31m---------------------------------------------------------------------------\u001b[0m",
      "\u001b[1;31mKeyboardInterrupt\u001b[0m                         Traceback (most recent call last)",
      "\u001b[1;32m<ipython-input-5-62344309db4c>\u001b[0m in \u001b[0;36m<module>\u001b[1;34m()\u001b[0m\n\u001b[0;32m     13\u001b[0m     \u001b[0mdisplay\u001b[0m\u001b[1;33m.\u001b[0m\u001b[0mstate\u001b[0m \u001b[1;33m=\u001b[0m \u001b[0mnew_state\u001b[0m\u001b[1;33m\u001b[0m\u001b[0m\n\u001b[0;32m     14\u001b[0m     \u001b[0mi\u001b[0m \u001b[1;33m+=\u001b[0m \u001b[1;36m0.05\u001b[0m\u001b[1;33m\u001b[0m\u001b[0m\n\u001b[1;32m---> 15\u001b[1;33m     \u001b[0msleep\u001b[0m\u001b[1;33m(\u001b[0m\u001b[1;36m0.02\u001b[0m\u001b[1;33m)\u001b[0m\u001b[1;33m\u001b[0m\u001b[0m\n\u001b[0m",
      "\u001b[1;31mKeyboardInterrupt\u001b[0m: "
     ]
    }
   ],
   "source": [
    "# Add some new values to our state and watch our display update live!\n",
    "import math\n",
    "from time import sleep\n",
    "from collections import deque\n",
    "\n",
    "i = 0\n",
    "q = deque(maxlen=9)\n",
    "while True:\n",
    "    new_state = display.state.copy()\n",
    "    new_val = (math.sin(i) + 1) * 200\n",
    "    q.appendleft(new_val)\n",
    "    new_state['values'] = list(q)\n",
    "    display.state = new_state\n",
    "    i += 0.05\n",
    "    sleep(0.02)"
   ]
  },
  {
   "cell_type": "code",
   "execution_count": null,
   "metadata": {},
   "outputs": [],
   "source": []
  },
  {
   "cell_type": "code",
   "execution_count": null,
   "metadata": {},
   "outputs": [],
   "source": []
  }
 ],
 "metadata": {
  "kernelspec": {
   "display_name": "Python 3",
   "language": "python",
   "name": "python3"
  },
  "language_info": {
   "codemirror_mode": {
    "name": "ipython",
    "version": 3
   },
   "file_extension": ".py",
   "mimetype": "text/x-python",
   "name": "python",
   "nbconvert_exporter": "python",
   "pygments_lexer": "ipython3",
   "version": "3.6.5"
  }
 },
 "nbformat": 4,
 "nbformat_minor": 2
}
